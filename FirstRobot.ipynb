{
 "cells": [
  {
   "cell_type": "code",
   "execution_count": 1,
   "metadata": {},
   "outputs": [
    {
     "name": "stdout",
     "output_type": "stream",
     "text": [
      "Успешно подключились к TWS\n"
     ]
    }
   ],
   "source": [
    "from ib_insync import *\n",
    "util.startLoop()\n",
    "ib = IB()\n",
    "ib.connect('127.0.0.1', 7497, clientId=1)\n",
    "if ib.isConnected():\n",
    "    print(\"Успешно подключились к TWS\")\n",
    "ib.disconnect()"
   ]
  },
  {
   "cell_type": "code",
   "execution_count": 2,
   "metadata": {},
   "outputs": [],
   "source": [
    "import requests"
   ]
  },
  {
   "cell_type": "code",
   "execution_count": 3,
   "metadata": {},
   "outputs": [
    {
     "name": "stdout",
     "output_type": "stream",
     "text": [
      "Enter ticker: spy\n",
      "Enter amount: 10\n"
     ]
    }
   ],
   "source": [
    "ticker = str(input('Enter ticker: ')).upper()\n",
    "amount = int(input('Enter amount: '))"
   ]
  },
  {
   "cell_type": "markdown",
   "metadata": {},
   "source": [
    "## Получение минутных данных\n",
    "\n",
    "Загрузка данных осуществляется с помощью сервиса Alpha Vantage (https://www.alphavantage.co/). Здесь, с определенными ограничениями, можно бесплатно взять биржевые данные американских компаний. Ограничения заключаются в лимите обращений к данным, не более пяти раз в минуту и не более пятисот в сутки. Но так как робот будет делать один запрос в минуту, AV отлично для этого подойдет. Чтобы начать обращаться к API сервиса, необходимо получить API Key.\n",
    "\n",
    "API Key: P9DHEUMVT6580QQX"
   ]
  },
  {
   "cell_type": "code",
   "execution_count": 5,
   "metadata": {},
   "outputs": [
    {
     "name": "stdout",
     "output_type": "stream",
     "text": [
      "\tUpdate SPY price history: SPY.csv\n"
     ]
    }
   ],
   "source": [
    "filename = f'{ticker}.csv'\n",
    "interval = '1min'\n",
    "apikey = 'P9DHEUMVT6580QQX'\n",
    "url = f'https://www.alphavantage.co/query?' \\\n",
    "      f'function=TIME_SERIES_INTRADAY&symbol={ticker}&' \\\n",
    "      f'interval={interval}&apikey={apikey}&datatype=csv&outputsize=compact'\n",
    "\n",
    "r = requests.get(url)\n",
    "content = r.content.decode('UTF-8')\n",
    "\n",
    "with open(filename, \"w\") as file:\n",
    "    file.write(content)\n",
    "\n",
    "print(f'\\tUpdate {ticker} price history:', filename)"
   ]
  },
  {
   "cell_type": "markdown",
   "metadata": {},
   "source": [
    "## Описание данных\n",
    "\n",
    "В случае необходимости, Alpha Vantage можно заменить другим источником данных. Для этого просто следует заменить url-запрос на адрес вашего сервиса. Однако формат данных должен соответствовать csv, иначе корректная работа робота не гарантируется. Например, даже если взять json данные из того же Alpha Vantage, робот не сможет прочитать их и выдаст исключение. Однако, если загрузить json данные из биржи IEX, то все будет работать и ничего переделывать не придется.\n",
    "Лучшим вариантом для данного робота, будет использование данных в формате csv:\n",
    "\n",
    "Alpha Vantage позволяет загружать\n",
    "    минутные (TIME_SERIES_INTRADAY — как в нашем случае),\n",
    "    дневные (TIME_SERIES_DAILY),\n",
    "    недельные (TIME_SERIES_WEEKLY)\n",
    "    месячные данные (TIME_SERIES_MONTHLY).\n",
    "\n",
    "Поддерживаются следующие значения временных интервалов: 1 мин, 5 мин, 15 мин, 30 мин, 60 мин. Как наверное уже заметили ранее, данный робот использует интервал в 1 минуту.\n",
    "\n",
    "Сервис позволяет получать данные в двух форматах: csv и json. По умолчанию выдается json, поэтому для получения csv, следует явно это указать в запросе: **datatype=csv**\n",
    "\n",
    "Еще следует учитывать, что в Alpha Vantage есть два размера файла: compact и full. По умолчанию идет compact и означает, что файл включает в себя 100 последних значений, в нашем случае это 100 последних минут. При указании опции full, AV представит всю историю данных за сутки, если используем TIME_SERIES_INTRADAY. (**outputsize=compact**)\n",
    "\n",
    "Например:\n",
    "\n",
    "url = f'https://www.alphavantage.co/query?function=TIME_SERIES_INTRADAY&symbol={ticker}&interval={interval}&apikey={apikey}&datatype=csv&outputsize=full'\n"
   ]
  }
 ],
 "metadata": {
  "kernelspec": {
   "display_name": "Python 3",
   "language": "python",
   "name": "python3"
  },
  "language_info": {
   "codemirror_mode": {
    "name": "ipython",
    "version": 3
   },
   "file_extension": ".py",
   "mimetype": "text/x-python",
   "name": "python",
   "nbconvert_exporter": "python",
   "pygments_lexer": "ipython3",
   "version": "3.7.4"
  }
 },
 "nbformat": 4,
 "nbformat_minor": 4
}
