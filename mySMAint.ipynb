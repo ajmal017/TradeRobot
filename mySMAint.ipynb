{
 "cells": [
  {
   "cell_type": "code",
   "execution_count": 1,
   "metadata": {},
   "outputs": [],
   "source": [
    "import requests\n",
    "import pandas as pd\n",
    "import time\n",
    "import talib\n",
    "import pytz\n",
    "import datetime\n",
    "import os\n",
    "import ibapi\n",
    "from ib_insync import *"
   ]
  },
  {
   "cell_type": "code",
   "execution_count": 2,
   "metadata": {},
   "outputs": [],
   "source": [
    "util.startLoop()  # uncomment this line when in a notebook\n",
    "ib = IB()\n",
    "# ib.connect('127.0.0.1', 7497, clientId=1)"
   ]
  },
  {
   "cell_type": "code",
   "execution_count": 3,
   "metadata": {},
   "outputs": [],
   "source": [
    "API_KEY = 'P9DHEUMVT6580QQX'\n",
    "INTERVAL = '1min'"
   ]
  },
  {
   "cell_type": "code",
   "execution_count": 4,
   "metadata": {},
   "outputs": [
    {
     "name": "stdout",
     "output_type": "stream",
     "text": [
      "Enter ticker: SPY\n",
      "Amount: 10\n"
     ]
    }
   ],
   "source": [
    "# Определение Ticker и Кол-ва акций для торговли\n",
    "ticker = str(input('Enter ticker: ')).upper() \n",
    "count = int(input('Amount: ')) "
   ]
  },
  {
   "cell_type": "code",
   "execution_count": 5,
   "metadata": {
    "scrolled": true
   },
   "outputs": [
    {
     "name": "stdout",
     "output_type": "stream",
     "text": [
      "Connecting...\n",
      "Successfully connected\n"
     ]
    }
   ],
   "source": [
    "if not ib.isConnected():  # connect only without active connection    \n",
    "    try:\n",
    "        print('Connecting...')\n",
    "        ib.connect('127.0.0.1', 7497, clientId=1)  # connect\n",
    "    except Exception as ex:\n",
    "        print('Error:', ex)  # catch at exception\n",
    "\n",
    "if ib.isConnected():\n",
    "    print(\"Successfully connected\")\n",
    "\n",
    "def balance():\n",
    "    balances = {av.tag: float(av.value) for av in ib.accountSummary()\n",
    "                if av.tag in ['AvailableFunds', 'BuyingPower', 'TotalCashValue', 'NetLiquidation']}\n",
    "    balance = balances.get('AvailableFunds', 0)\n",
    "    \n",
    "    return balance\n",
    "\n",
    "def check_balance(ticker, count):\n",
    "    price = read_data(ticker)['close'].iloc[-1]\n",
    "    amount = price * count\n",
    "    if balance() > amount:\n",
    "        return True\n",
    "    else:\n",
    "        return False\n",
    "\n",
    "'''\n",
    "==============================================================================\n",
    "                       Функция проверки работы биржи\n",
    "      Определяет состояние: premarket, regular, postmarket или close\n",
    "==============================================================================\n",
    "'''\n",
    "def time_check(ticker):\n",
    "    contract = Stock(ticker)\n",
    "    cds = ib.reqContractDetails(contract)\n",
    "    hours = cds[0].tradingHours\n",
    "    hourslist1 = hours.split(';')\n",
    "    hourslist2 = hourslist1[0].split('-')\n",
    "    hourslistopening = hourslist2[0].split(':')\n",
    "    tz = get_tz(ticker)\n",
    "    today = datetime.datetime.now(tz=pytz.UTC).astimezone(pytz.timezone(tz))\n",
    "    date = today.strftime(\"%Y%m%d\")\n",
    "    time = today.strftime(\"%H%M\")\n",
    "    print('DateTime: ', today.strftime(\"%d-%m-%Y at %I:%M%p\"), tz)\n",
    "    \n",
    "    if hourslistopening[1] == 'CLOSED':\n",
    "        return 'close' \n",
    "    else:\n",
    "        hourslistclosing = hourslist2[1].split(':')\n",
    "        openingsdict = dict(zip(hourslistopening[::2], hourslistopening[1::2]))\n",
    "        closingdict = dict(zip(hourslistclosing[::2], hourslistclosing[1::2]))\n",
    "        hoursregular = cds[0].liquidHours\n",
    "        hourslist1regular = hoursregular.split(';')\n",
    "        hourslist2regular = hourslist1regular[0].split('-')\n",
    "        hourslistopeningregular = hourslist2regular[0].split(':')\n",
    "        hourslistclosingregular = hourslist2regular[1].split(':')\n",
    "        openingsdictregular = dict(zip(hourslistopeningregular[::2], hourslistopeningregular[1::2]))\n",
    "        closingdictregular = dict(zip(hourslistclosingregular[::2], hourslistclosingregular[1::2]))\n",
    "\n",
    "        rangelist = []\n",
    "\n",
    "        for key, value in openingsdict.items():\n",
    "            rangelist.append(value)\n",
    "    \n",
    "        for key, value in closingdict.items():\n",
    "            rangelist.append(value)\n",
    "\n",
    "        for key, value in openingsdictregular.items():\n",
    "            rangelist.append(value)\n",
    "    \n",
    "        for key, value in closingdictregular.items():\n",
    "            rangelist.append(value)    \n",
    "       \n",
    "        sortrangelist = sorted(rangelist) \n",
    "\n",
    "        if sortrangelist[0] <= time < sortrangelist[1]:\n",
    "            return 'premarket' \n",
    "        elif sortrangelist[1] <= time < sortrangelist[2]:\n",
    "            return 'regular' \n",
    "        elif sortrangelist[2] <= time < sortrangelist[3]:\n",
    "            return 'postmarket'\n",
    "        else:\n",
    "            return 'close'\n",
    "    \n",
    "# def get_tz(ticker):\n",
    "#     filename = f'{ticker}.json'\n",
    "#     url = f'https://www.alphavantage.co/query?function=TIME_SERIES_INTRADAY&symbol={ticker}&interval={INTERVAL}&apikey={API_KEY}'\n",
    "#     r = requests.get(url)\n",
    "#     content = r.content.decode('UTF-8')\n",
    "#     with open(filename, \"w\") as file:\n",
    "#         file.write(content)\n",
    "#     data = pd.read_json(f'{ticker}.json')\n",
    "#     tz = data['Meta Data']['6. Time Zone']   \n",
    "#     os.remove(f'{ticker}.json')\n",
    "    \n",
    "#     return tz\n",
    "\n",
    "'''\n",
    "==============================================================================\n",
    "                    Функция получения часового пояса ticker'а\n",
    "==============================================================================\n",
    "'''\n",
    "def get_tz(ticker):\n",
    "    url = f'https://www.alphavantage.co/query?function=TIME_SERIES_INTRADAY&symbol={ticker}&interval={INTERVAL}&apikey={API_KEY}'\n",
    "    r = requests.get(url)\n",
    "    json_data = r.json()\n",
    "    tz = json_data['Meta Data']['6. Time Zone']\n",
    "    \n",
    "    return tz    \n",
    "\n",
    "'''\n",
    "==============================================================================\n",
    "                    Функция загрузки данных в файл {ticker}.csv\n",
    "==============================================================================\n",
    "'''\n",
    "def load_data(ticker):\n",
    "    filename = f'{ticker}.csv'\n",
    "    url = f'https://www.alphavantage.co/query?function=TIME_SERIES_INTRADAY&symbol={ticker}&interval={INTERVAL}&apikey={API_KEY}&datatype=csv&outputsize=compact'\n",
    "    r = requests.get(url)\n",
    "    content = r.content.decode('UTF-8')\n",
    "    with open(filename, \"w\") as file:\n",
    "        file.write(content)\n",
    "    print(f'\\tUpdate {ticker} price history:', filename)\n",
    "    \n",
    "'''\n",
    "==============================================================================\n",
    "                        Функция чтения биржевых данных\n",
    "==============================================================================\n",
    "'''\n",
    "def read_data(ticker):\n",
    "    data = pd.read_csv(f'{ticker}.csv')\n",
    "    os.remove(f'{ticker}.csv')\n",
    "        \n",
    "    return data\n",
    "\n",
    "def algorithm(ticker):\n",
    "    try:\n",
    "        close = read_data(ticker)['close'].fillna(method='ffill')\n",
    "    except KeyError:\n",
    "        print('No data, the limit of requests may be exceeded')\n",
    "        disconnect()\n",
    "    else:\n",
    "        ma_long = talib.SMA(close, timeperiod=26)\n",
    "        ma_short = talib.SMA(close, timeperiod=9)\n",
    "\n",
    "        last_price = close.iloc[-1]\n",
    "\n",
    "        print(f'\\tCheck SMA for {ticker} (last={last_price:.2f}): Short={ma_short.iloc[-1]:.4f} Long={ma_long.iloc[-1]:.4f}')\n",
    "        print(f'\\tCheck SMA for {ticker} (last={last_price:.2f}): Short={ma_short.iloc[-2]:.4f} Long={ma_long.iloc[-2]:.4f} (previous)')\n",
    "\n",
    "        if ma_long.iloc[-2] > ma_short.iloc[-2] and ma_long.iloc[-1] < ma_short.iloc[-1]:\n",
    "                contract = get_contract(ticker)\n",
    "                buy(ticker, contract)\n",
    "\n",
    "        elif ma_long.iloc[-2] < ma_short.iloc[-2] and ma_long.iloc[-1] > ma_short.iloc[-1]:\n",
    "                contract = get_contract(ticker)\n",
    "                sell(ticker, contract)\n",
    "        \n",
    "def get_contract(ticker):\n",
    "    contract = Stock(f'{ticker}', 'SMART', 'USD')\n",
    "    ib.qualifyContracts(contract)\n",
    "    \n",
    "    return contract\n",
    "    \n",
    "def list_positions():\n",
    "    positions = ib.positions()\n",
    "    positions = \"\\n\".join([f\"{p.contract.localSymbol} {p.position}x{p.avgCost}\"\n",
    "                               for p in positions])\n",
    "    return positions\n",
    "\n",
    "def list_orders():\n",
    "    trades = ib.openTrades()\n",
    "    orders = \"\\n\".join([f\"{t.order.action} {t.contract.secType} {t.contract.symbol} {t.contract.localSymbol}\"\n",
    "                            f\" {t.order.totalQuantity}x{t.order.lmtPrice}\"\n",
    "                            for t in trades])\n",
    "    return orders\n",
    "\n",
    "def buy(ticker, contract): \n",
    "    if f'{ticker}' not in list_positions():\n",
    "        if f'{ticker}' not in list_orders():\n",
    "            order = MarketOrder('BUY', f'{count}') \n",
    "            ib.placeOrder(contract, order)\n",
    "        \n",
    "def sell(ticker, contract):\n",
    "    if f'{ticker}' in list_positions():\n",
    "         if f'{ticker}' not in list_orders():\n",
    "            order = MarketOrder('SELL',  f'{count}')\n",
    "            ib.placeOrder(contract, order)\n",
    "            \n",
    "def run_algorithm():\n",
    "    messages = {\n",
    "      'premarket': 'Premarket',\n",
    "      'postmarket': 'Postmarket',\n",
    "      'close': 'Closed',\n",
    "      'regular': 'Regular session',\n",
    "    } \n",
    "    message = messages.get(time_check(ticker), 'Uncertain')\n",
    "    print(message)\n",
    "        \n",
    "    if message == 'Regular session':\n",
    "        load_data(ticker) \n",
    "        if check_balance(ticker, count):        \n",
    "            print('== Start working ==')\n",
    "\n",
    "            while True:\n",
    "\n",
    "                load_data(ticker)\n",
    "                algorithm(ticker)\n",
    "                time.sleep(60)\n",
    "                \n",
    "        else:\n",
    "            print('Insufficient funds')\n",
    "    else:\n",
    "        print('Wait for the regular session to open')\n",
    "\n",
    "def disconnect():\n",
    "    if ib.isConnected():  # check for connection\n",
    "        ib.disconnect()  # disconnect\n",
    "\n",
    "        while ib.isConnected():  # wait while disconnecting\n",
    "            time.sleep(1)  # sleep 1 sec on waiting\n",
    "\n",
    "    print(\"Successful disconnected with TWS\")"
   ]
  },
  {
   "cell_type": "code",
   "execution_count": 6,
   "metadata": {
    "scrolled": false
   },
   "outputs": [
    {
     "name": "stdout",
     "output_type": "stream",
     "text": [
      "DateTime:  17-02-2020 at 05:11AM US/Eastern\n",
      "Closed\n",
      "Wait for the regular session to open\n"
     ]
    }
   ],
   "source": [
    "if ib.isConnected():\n",
    "    try:  \n",
    "        run_algorithm()\n",
    "    except KeyboardInterrupt:\n",
    "        disconnect()\n",
    "        print('== Stop working ==')\n",
    "else:\n",
    "    print('Error: Not connected')"
   ]
  },
  {
   "cell_type": "code",
   "execution_count": 6,
   "metadata": {},
   "outputs": [
    {
     "name": "stdout",
     "output_type": "stream",
     "text": [
      "Successful disconnected with TWS\n"
     ]
    }
   ],
   "source": [
    "disconnect()"
   ]
  },
  {
   "cell_type": "code",
   "execution_count": null,
   "metadata": {},
   "outputs": [],
   "source": []
  },
  {
   "cell_type": "code",
   "execution_count": null,
   "metadata": {},
   "outputs": [],
   "source": []
  },
  {
   "cell_type": "code",
   "execution_count": null,
   "metadata": {},
   "outputs": [],
   "source": []
  },
  {
   "cell_type": "code",
   "execution_count": null,
   "metadata": {},
   "outputs": [],
   "source": []
  },
  {
   "cell_type": "code",
   "execution_count": 7,
   "metadata": {},
   "outputs": [
    {
     "data": {
      "text/plain": [
       "Stock(conId=756733, symbol='SPY', exchange='SMART', primaryExchange='ARCA', currency='USD', localSymbol='SPY', tradingClass='SPY')"
      ]
     },
     "execution_count": 7,
     "metadata": {},
     "output_type": "execute_result"
    }
   ],
   "source": [
    "get_contract(ticker)"
   ]
  },
  {
   "cell_type": "code",
   "execution_count": 26,
   "metadata": {},
   "outputs": [
    {
     "name": "stdout",
     "output_type": "stream",
     "text": [
      "US/Eastern\n"
     ]
    }
   ],
   "source": [
    "BASE_URL = f'https://www.alphavantage.co/query?function=TIME_SERIES_INTRADAY&symbol={ticker}&interval={INTERVAL}&apikey={API_KEY}'\n",
    "\n",
    "r = requests.get(BASE_URL)\n",
    "json_data = r.json()\n",
    "\n",
    "# print(parsed_json)\n",
    "\n",
    "name = json_data['Meta Data']['6. Time Zone']\n",
    "\n",
    "print(name)"
   ]
  },
  {
   "cell_type": "code",
   "execution_count": 8,
   "metadata": {},
   "outputs": [],
   "source": [
    "'''\n",
    "============================================================================\n",
    "            Функция загрузки данных через json\n",
    "============================================================================           \n",
    "'''\n",
    "def my_load_data(ticker):\n",
    "    url = f'https://www.alphavantage.co/query?function=TIME_SERIES_INTRADAY&symbol={ticker}&interval={INTERVAL}&apikey={API_KEY}&datatype=json&outputsize=compact'\n",
    "    r = requests.get(url)\n",
    "    json_data = r.json()\n",
    "    \n",
    "    #Определить название ключа, оно зависит от выбранного INTERVAL\n",
    "    key_name = list( json_data.keys() )[1]\n",
    "    \n",
    "    # Загрузить данные. Важно! нужно заменить ' на \", с ' не работает.\n",
    "    data = pd.read_json(str(json_data[key_name]).replace('\\'', '\\\"'), orient='index')\n",
    "    \n",
    "    # Привести данные к формату файла *.csv\n",
    "    data = data.reset_index() \\\n",
    "               .rename(columns={'index'    : 'timestamp',\n",
    "                                '1. open'  : 'open',\n",
    "                                '2. high'  : 'high',\n",
    "                                '3. low'   : 'low',\n",
    "                                '4. close' : 'close',\n",
    "                                '5. volume': 'vloume'})\n",
    "    return data"
   ]
  },
  {
   "cell_type": "code",
   "execution_count": 9,
   "metadata": {},
   "outputs": [
    {
     "data": {
      "text/html": [
       "<div>\n",
       "<style scoped>\n",
       "    .dataframe tbody tr th:only-of-type {\n",
       "        vertical-align: middle;\n",
       "    }\n",
       "\n",
       "    .dataframe tbody tr th {\n",
       "        vertical-align: top;\n",
       "    }\n",
       "\n",
       "    .dataframe thead th {\n",
       "        text-align: right;\n",
       "    }\n",
       "</style>\n",
       "<table border=\"1\" class=\"dataframe\">\n",
       "  <thead>\n",
       "    <tr style=\"text-align: right;\">\n",
       "      <th></th>\n",
       "      <th>timestamp</th>\n",
       "      <th>open</th>\n",
       "      <th>high</th>\n",
       "      <th>low</th>\n",
       "      <th>close</th>\n",
       "      <th>vloume</th>\n",
       "    </tr>\n",
       "  </thead>\n",
       "  <tbody>\n",
       "    <tr>\n",
       "      <th>0</th>\n",
       "      <td>2020-02-14 16:00:00</td>\n",
       "      <td>337.580</td>\n",
       "      <td>337.630</td>\n",
       "      <td>337.550</td>\n",
       "      <td>337.600</td>\n",
       "      <td>1005288</td>\n",
       "    </tr>\n",
       "    <tr>\n",
       "      <th>1</th>\n",
       "      <td>2020-02-14 15:59:00</td>\n",
       "      <td>337.535</td>\n",
       "      <td>337.600</td>\n",
       "      <td>337.530</td>\n",
       "      <td>337.590</td>\n",
       "      <td>339257</td>\n",
       "    </tr>\n",
       "    <tr>\n",
       "      <th>2</th>\n",
       "      <td>2020-02-14 15:58:00</td>\n",
       "      <td>337.550</td>\n",
       "      <td>337.590</td>\n",
       "      <td>337.525</td>\n",
       "      <td>337.540</td>\n",
       "      <td>252776</td>\n",
       "    </tr>\n",
       "    <tr>\n",
       "      <th>3</th>\n",
       "      <td>2020-02-14 15:57:00</td>\n",
       "      <td>337.480</td>\n",
       "      <td>337.560</td>\n",
       "      <td>337.475</td>\n",
       "      <td>337.560</td>\n",
       "      <td>259297</td>\n",
       "    </tr>\n",
       "    <tr>\n",
       "      <th>4</th>\n",
       "      <td>2020-02-14 15:56:00</td>\n",
       "      <td>337.460</td>\n",
       "      <td>337.515</td>\n",
       "      <td>337.400</td>\n",
       "      <td>337.475</td>\n",
       "      <td>293746</td>\n",
       "    </tr>\n",
       "    <tr>\n",
       "      <th>...</th>\n",
       "      <td>...</td>\n",
       "      <td>...</td>\n",
       "      <td>...</td>\n",
       "      <td>...</td>\n",
       "      <td>...</td>\n",
       "      <td>...</td>\n",
       "    </tr>\n",
       "    <tr>\n",
       "      <th>95</th>\n",
       "      <td>2020-02-14 14:25:00</td>\n",
       "      <td>336.670</td>\n",
       "      <td>336.690</td>\n",
       "      <td>336.640</td>\n",
       "      <td>336.680</td>\n",
       "      <td>69129</td>\n",
       "    </tr>\n",
       "    <tr>\n",
       "      <th>96</th>\n",
       "      <td>2020-02-14 14:24:00</td>\n",
       "      <td>336.525</td>\n",
       "      <td>336.680</td>\n",
       "      <td>336.525</td>\n",
       "      <td>336.680</td>\n",
       "      <td>73090</td>\n",
       "    </tr>\n",
       "    <tr>\n",
       "      <th>97</th>\n",
       "      <td>2020-02-14 14:23:00</td>\n",
       "      <td>336.495</td>\n",
       "      <td>336.530</td>\n",
       "      <td>336.460</td>\n",
       "      <td>336.530</td>\n",
       "      <td>20540</td>\n",
       "    </tr>\n",
       "    <tr>\n",
       "      <th>98</th>\n",
       "      <td>2020-02-14 14:22:00</td>\n",
       "      <td>336.455</td>\n",
       "      <td>336.510</td>\n",
       "      <td>336.455</td>\n",
       "      <td>336.500</td>\n",
       "      <td>47842</td>\n",
       "    </tr>\n",
       "    <tr>\n",
       "      <th>99</th>\n",
       "      <td>2020-02-14 14:21:00</td>\n",
       "      <td>336.390</td>\n",
       "      <td>336.470</td>\n",
       "      <td>336.380</td>\n",
       "      <td>336.455</td>\n",
       "      <td>59354</td>\n",
       "    </tr>\n",
       "  </tbody>\n",
       "</table>\n",
       "<p>100 rows × 6 columns</p>\n",
       "</div>"
      ],
      "text/plain": [
       "             timestamp     open     high      low    close   vloume\n",
       "0  2020-02-14 16:00:00  337.580  337.630  337.550  337.600  1005288\n",
       "1  2020-02-14 15:59:00  337.535  337.600  337.530  337.590   339257\n",
       "2  2020-02-14 15:58:00  337.550  337.590  337.525  337.540   252776\n",
       "3  2020-02-14 15:57:00  337.480  337.560  337.475  337.560   259297\n",
       "4  2020-02-14 15:56:00  337.460  337.515  337.400  337.475   293746\n",
       "..                 ...      ...      ...      ...      ...      ...\n",
       "95 2020-02-14 14:25:00  336.670  336.690  336.640  336.680    69129\n",
       "96 2020-02-14 14:24:00  336.525  336.680  336.525  336.680    73090\n",
       "97 2020-02-14 14:23:00  336.495  336.530  336.460  336.530    20540\n",
       "98 2020-02-14 14:22:00  336.455  336.510  336.455  336.500    47842\n",
       "99 2020-02-14 14:21:00  336.390  336.470  336.380  336.455    59354\n",
       "\n",
       "[100 rows x 6 columns]"
      ]
     },
     "execution_count": 9,
     "metadata": {},
     "output_type": "execute_result"
    }
   ],
   "source": [
    "stock_data = my_load_data(ticker)\n",
    "stock_data"
   ]
  },
  {
   "cell_type": "code",
   "execution_count": 45,
   "metadata": {},
   "outputs": [
    {
     "data": {
      "text/plain": [
       "1272758.51"
      ]
     },
     "execution_count": 45,
     "metadata": {},
     "output_type": "execute_result"
    }
   ],
   "source": [
    "# stock_data['close'].iloc[-1]\n",
    "balance()"
   ]
  },
  {
   "cell_type": "code",
   "execution_count": null,
   "metadata": {},
   "outputs": [],
   "source": []
  },
  {
   "cell_type": "code",
   "execution_count": null,
   "metadata": {},
   "outputs": [],
   "source": []
  },
  {
   "cell_type": "code",
   "execution_count": 48,
   "metadata": {},
   "outputs": [
    {
     "name": "stdout",
     "output_type": "stream",
     "text": [
      "ESGV 1142.0x52.7765556\n",
      "ESGD 954.0x64.1715282\n",
      "DVY 292.0x101.06176745\n",
      "VO 50.0x170.48881\n",
      "VDE 99.0x81.962902\n",
      "TFI 1109.0x50.50644005\n",
      "IBKR 2800.0x39.4058383\n",
      "TIP 207.0x115.00465265\n",
      "BWX 712.0x28.57725195\n",
      "LQD 99.0x124.4389121\n",
      "ESML 309.0x27.38696345\n",
      "VNQ 137.0x88.7322321\n",
      "ESGE 1221.0x33.994677\n",
      "EAGG 1280.0x53.3022901\n"
     ]
    }
   ],
   "source": [
    "print(list_positions())"
   ]
  },
  {
   "cell_type": "code",
   "execution_count": null,
   "metadata": {},
   "outputs": [],
   "source": [
    "def list_positions():\n",
    "    positions = ib.positions()\n",
    "    positions = \"\\n\".join([f\"{p.contract.localSymbol} {p.position}x{p.avgCost}\"\n",
    "                               for p in positions])\n",
    "    return positions"
   ]
  },
  {
   "cell_type": "code",
   "execution_count": 79,
   "metadata": {},
   "outputs": [
    {
     "data": {
      "text/plain": [
       "Position(account='DUC00074', contract=Stock(conId=333970434, symbol='ESGV', exchange='BATS', currency='USD', localSymbol='ESGV', tradingClass='ESGV'), position=1142.0, avgCost=52.7765556)"
      ]
     },
     "execution_count": 79,
     "metadata": {},
     "output_type": "execute_result"
    }
   ],
   "source": [
    "positions = ib.positions()\n",
    "# [str(p.contract.localSymbol) + ' - ' + str(p.position) + 'x' + str(p.avgCost) for p in positions]\n",
    "positions[0]"
   ]
  }
 ],
 "metadata": {
  "kernelspec": {
   "display_name": "Python 3",
   "language": "python",
   "name": "python3"
  },
  "language_info": {
   "codemirror_mode": {
    "name": "ipython",
    "version": 3
   },
   "file_extension": ".py",
   "mimetype": "text/x-python",
   "name": "python",
   "nbconvert_exporter": "python",
   "pygments_lexer": "ipython3",
   "version": "3.7.4"
  }
 },
 "nbformat": 4,
 "nbformat_minor": 2
}
