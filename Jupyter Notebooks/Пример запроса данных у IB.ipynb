{
 "cells": [
  {
   "cell_type": "code",
   "execution_count": 1,
   "metadata": {},
   "outputs": [],
   "source": [
    "from ibapi.client import EClient\n",
    "from ibapi.wrapper import EWrapper\n",
    "from ibapi.common import *\n",
    "from ibapi.contract import *\n",
    "# from ContractSamples import ContractSamples"
   ]
  },
  {
   "cell_type": "code",
   "execution_count": 2,
   "metadata": {},
   "outputs": [
    {
     "name": "stdout",
     "output_type": "stream",
     "text": [
      "id 1\n",
      "Error:  -1  2104  Соединение с базой рыночных данных исправно:cashfarm\n",
      "Error:  -1  2104  Соединение с базой рыночных данных исправно:usfarm\n",
      "Error:  -1  2106  Соединение с базой данных HMDS исправно:ushmds\n",
      "Error:  -1  2158  Соединение с базой данных \"sec-def\" исправно:secdefnj\n",
      "contractDetail:  10   756733,SPY,STK,,0.0,,,SMART,ARCA,USD,SPY,SPY,False,,combo:,SPY,0.01,ACTIVETIM,AD,ADJUST,ALERT,ALGO,ALLOC,AVGCOST,BASKET,BENCHPX,COND,CONDORDER,DARKONLY,DARKPOLL,DAY,DEACT,DEACTDIS,DEACTEOD,DIS,GAT,GTC,GTD,GTT,HID,IBKRATS,ICE,IOC,LIT,LMT,LOC,MIDPX,MIT,MKT,MOC,MTL,NGCOMB,NODARK,NONALGO,OCA,OPG,OPGREROUT,PEGBENCH,POSTONLY,PREOPGRTH,REL,RTH,SCALE,SCALEODD,SCALERST,SMARTSTG,SNAPMID,SNAPMKT,SNAPREL,STP,STPLMT,SWEEP,TRAIL,TRAILLIT,TRAILLMT,TRAILMIT,WHATIF,SMART,AMEX,NYSE,CBOE,PHLX,ISE,CHX,ARCA,ISLAND,DRCTEDGE,BEX,BATS,EDGEA,CSFBALGO,JEFFALGO,BYX,IEX,EDGX,FOXRIVER,NYSENAT,PSX,1,0,SPDR S&P 500 ETF TRUST,,,,,EST (Eastern Standard Time),20200303:0400-20200303:2000;20200304:0400-20200304:2000;20200305:0400-20200305:2000;20200306:0400-20200306:2000;20200307:CLOSED;20200308:CLOSED;20200309:0400-20200309:2000;20200310:0400-20200310:2000;20200311:0400-20200311:2000;20200312:0400-20200312:2000;20200313:0400-20200313:2000;20200314:CLOSED;20200315:CLOSED;20200316:0400-20200316:2000;20200317:0400-20200317:2000;20200318:0400-20200318:2000;20200319:0400-20200319:2000;20200320:0400-20200320:2000;20200321:CLOSED;20200322:CLOSED;20200323:0400-20200323:2000;20200324:0400-20200324:2000;20200325:0400-20200325:2000;20200326:0400-20200326:2000;20200327:0400-20200327:2000;20200328:CLOSED;20200329:CLOSED;20200330:0400-20200330:2000;20200331:0400-20200331:2000;20200401:0400-20200401:2000;20200402:0400-20200402:2000;20200403:0400-20200403:2000;20200404:CLOSED;20200405:CLOSED;20200406:0400-20200406:2000,20200303:0930-20200303:1600;20200304:0930-20200304:1600;20200305:0930-20200305:1600;20200306:0930-20200306:1600;20200307:CLOSED;20200308:CLOSED;20200309:0930-20200309:1600;20200310:0930-20200310:1600;20200311:0930-20200311:1600;20200312:0930-20200312:1600;20200313:0930-20200313:1600;20200314:CLOSED;20200315:CLOSED;20200316:0930-20200316:1600;20200317:0930-20200317:1600;20200318:0930-20200318:1600;20200319:0930-20200319:1600;20200320:0930-20200320:1600;20200321:CLOSED;20200322:CLOSED;20200323:0930-20200323:1600;20200324:0930-20200324:1600;20200325:0930-20200325:1600;20200326:0930-20200326:1600;20200327:0930-20200327:1600;20200328:CLOSED;20200329:CLOSED;20200330:0930-20200330:1600;20200331:0930-20200331:1600;20200401:0930-20200401:1600;20200402:0930-20200402:1600;20200403:0930-20200403:1600;20200404:CLOSED;20200405:CLOSED;20200406:0930-20200406:1600,,0,100,,,26,26,26,26,26,26,26,26,26,26,26,26,26,26,26,26,26,26,26,26,26,1,None,,ETF,,,,,,False,False,0,False,,,,,False,\n",
      "end, disconnecting\n"
     ]
    }
   ],
   "source": [
    "class TestApp(EClient, EWrapper):\n",
    "    def __init__(self):\n",
    "        EClient.__init__(self, self)\n",
    "\n",
    "    def nextValidId(self, orderId:int):\n",
    "        print(\"id\", orderId)\n",
    "        contract = Contract()\n",
    "        contract.symbol = \"SPY\"\n",
    "        contract.secType = \"STK\"\n",
    "        contract.exchange = \"SMART\"\n",
    "        contract.currency = \"USD\"\n",
    "        contract.primaryExchange = \"NASDAQ\"\n",
    "\n",
    "        self.reqContractDetails(10, contract)\n",
    "\n",
    "    def error(self, reqId:TickerId, errorCode:int, errorString:str):\n",
    "        print(\"Error: \", reqId, \"\", errorCode, \"\", errorString)\n",
    "\n",
    "    def contractDetails(self, reqId:int, contractDetails:ContractDetails):\n",
    "        print(\"contractDetail: \", reqId, \" \", contractDetails)\n",
    "\n",
    "    def contractDetailsEnd(self, reqId:int):\n",
    "        print(\"end, disconnecting\")\n",
    "        self.disconnect()\n",
    "\n",
    "def main():\n",
    "    app = TestApp()\n",
    "\n",
    "    app.connect(\"127.0.0.1\", 7497, 0)\n",
    "    app.run()\n",
    "\n",
    "if __name__ == \"__main__\":\n",
    "    main()"
   ]
  }
 ],
 "metadata": {
  "kernelspec": {
   "display_name": "Python 3",
   "language": "python",
   "name": "python3"
  },
  "language_info": {
   "codemirror_mode": {
    "name": "ipython",
    "version": 3
   },
   "file_extension": ".py",
   "mimetype": "text/x-python",
   "name": "python",
   "nbconvert_exporter": "python",
   "pygments_lexer": "ipython3",
   "version": "3.7.4"
  }
 },
 "nbformat": 4,
 "nbformat_minor": 4
}
