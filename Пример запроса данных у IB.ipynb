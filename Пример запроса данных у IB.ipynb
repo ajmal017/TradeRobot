{
 "cells": [
  {
   "cell_type": "code",
   "execution_count": 4,
   "metadata": {},
   "outputs": [],
   "source": [
    "from ibapi.client import EClient\n",
    "from ibapi.wrapper import EWrapper\n",
    "from ibapi.common import *\n",
    "from ibapi.contract import *\n",
    "# from ContractSamples import ContractSamples"
   ]
  },
  {
   "cell_type": "code",
   "execution_count": 12,
   "metadata": {},
   "outputs": [
    {
     "name": "stdout",
     "output_type": "stream",
     "text": [
      "id 1\n",
      "Error:  -1  2104  Соединение с базой рыночных данных исправно:cashfarm\n",
      "Error:  -1  2104  Соединение с базой рыночных данных исправно:usfarm\n",
      "Error:  -1  2105  Нарушено соединение с базой данных HMDS:ushmds\n",
      "Error:  -1  2157  Нарушено соединение с базой данных \"sec-def\":secdefnj\n",
      "contractDetail:  10   756733,SPY,STK,,0.0,,,SMART,ARCA,USD,SPY,SPY,False,,combo:,SPY,0.01,ACTIVETIM,AD,ADJUST,ALERT,ALGO,ALLOC,AVGCOST,BASKET,BENCHPX,COND,CONDORDER,DARKONLY,DARKPOLL,DAY,DEACT,DEACTDIS,DEACTEOD,DIS,GAT,GTC,GTD,GTT,HID,IBKRATS,ICE,IOC,LIT,LMT,LOC,MIDPX,MIT,MKT,MOC,MTL,NGCOMB,NODARK,NONALGO,OCA,OPG,OPGREROUT,PEGBENCH,POSTONLY,PREOPGRTH,REL,RTH,SCALE,SCALEODD,SCALERST,SMARTSTG,SNAPMID,SNAPMKT,SNAPREL,STP,STPLMT,SWEEP,TRAIL,TRAILLIT,TRAILLMT,TRAILMIT,WHATIF,SMART,AMEX,NYSE,CBOE,PHLX,ISE,CHX,ARCA,ISLAND,DRCTEDGE,BEX,BATS,EDGEA,CSFBALGO,JEFFALGO,BYX,IEX,EDGX,FOXRIVER,NYSENAT,PSX,1,0,SPDR S&P 500 ETF TRUST,,,,,EST (Eastern Standard Time),20200212:0400-20200212:2000;20200213:0400-20200213:2000;20200214:0400-20200214:2000;20200215:CLOSED;20200216:CLOSED;20200217:CLOSED;20200218:0400-20200218:2000;20200219:0400-20200219:2000;20200220:0400-20200220:2000;20200221:0400-20200221:2000;20200222:CLOSED;20200223:CLOSED;20200224:0400-20200224:2000;20200225:0400-20200225:2000;20200226:0400-20200226:2000;20200227:0400-20200227:2000;20200228:0400-20200228:2000;20200229:CLOSED;20200301:CLOSED;20200302:0400-20200302:2000;20200303:0400-20200303:2000;20200304:0400-20200304:2000;20200305:0400-20200305:2000;20200306:0400-20200306:2000;20200307:CLOSED;20200309:CLOSED;20200310:0400-20200310:2000;20200311:0400-20200311:2000;20200312:0400-20200312:2000;20200313:0400-20200313:2000;20200314:0400-20200314:2000;20200315:CLOSED;20200316:CLOSED;20200317:0400-20200317:2000;20200318:0400-20200318:2000,20200212:0930-20200212:1600;20200213:0930-20200213:1600;20200214:0930-20200214:1600;20200215:CLOSED;20200216:CLOSED;20200217:CLOSED;20200218:0930-20200218:1600;20200219:0930-20200219:1600;20200220:0930-20200220:1600;20200221:0930-20200221:1600;20200222:CLOSED;20200223:CLOSED;20200224:0930-20200224:1600;20200225:0930-20200225:1600;20200226:0930-20200226:1600;20200227:0930-20200227:1600;20200228:0930-20200228:1600;20200229:CLOSED;20200301:CLOSED;20200302:0930-20200302:1600;20200303:0930-20200303:1600;20200304:0930-20200304:1600;20200305:0930-20200305:1600;20200306:0930-20200306:1600;20200307:CLOSED;20200309:CLOSED;20200310:0930-20200310:1600;20200311:0930-20200311:1600;20200312:0930-20200312:1600;20200313:0930-20200313:1600;20200314:0930-20200314:1600;20200315:CLOSED;20200316:CLOSED;20200317:0930-20200317:1600;20200318:0930-20200318:1600,,0,100,,,26,26,26,26,26,26,26,26,26,26,26,26,26,26,26,26,26,26,26,26,26,1,None,,ETF,,,,,,False,False,0,False,,,,,False,\n",
      "end, disconnecting\n"
     ]
    }
   ],
   "source": [
    "class TestApp(EClient, EWrapper):\n",
    "    def __init__(self):\n",
    "        EClient.__init__(self, self)\n",
    "\n",
    "    def nextValidId(self, orderId:int):\n",
    "        print(\"id\", orderId)\n",
    "        contract = Contract()\n",
    "        contract.symbol = \"SPY\"\n",
    "        contract.secType = \"STK\"\n",
    "        contract.exchange = \"SMART\"\n",
    "        contract.currency = \"USD\"\n",
    "        contract.primaryExchange = \"NASDAQ\"\n",
    "\n",
    "        self.reqContractDetails(10, contract)\n",
    "\n",
    "    def error(self, reqId:TickerId, errorCode:int, errorString:str):\n",
    "        print(\"Error: \", reqId, \"\", errorCode, \"\", errorString)\n",
    "\n",
    "    def contractDetails(self, reqId:int, contractDetails:ContractDetails):\n",
    "        print(\"contractDetail: \", reqId, \" \", contractDetails)\n",
    "\n",
    "    def contractDetailsEnd(self, reqId:int):\n",
    "        print(\"end, disconnecting\")\n",
    "        self.disconnect()\n",
    "\n",
    "def main():\n",
    "    app = TestApp()\n",
    "\n",
    "    app.connect(\"127.0.0.1\", 7497, 0)\n",
    "    app.run()\n",
    "\n",
    "if __name__ == \"__main__\":\n",
    "    main()"
   ]
  }
 ],
 "metadata": {
  "kernelspec": {
   "display_name": "Python 3",
   "language": "python",
   "name": "python3"
  },
  "language_info": {
   "codemirror_mode": {
    "name": "ipython",
    "version": 3
   },
   "file_extension": ".py",
   "mimetype": "text/x-python",
   "name": "python",
   "nbconvert_exporter": "python",
   "pygments_lexer": "ipython3",
   "version": "3.7.4"
  }
 },
 "nbformat": 4,
 "nbformat_minor": 4
}
